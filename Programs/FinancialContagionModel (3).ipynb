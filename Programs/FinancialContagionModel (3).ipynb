{
 "cells": [
  {
   "cell_type": "markdown",
   "id": "suspected-pursuit",
   "metadata": {},
   "source": [
    "# Computing contagion models for the supervision of financial networks in Honduras\n",
    "<br />\n",
    "\n",
    "### Evelyn Flores\n",
    "### Fredy Vides \n",
    "### Department of Statistics and Research, Comisión Nacional de Bancos y Seguros de Honduras"
   ]
  },
  {
   "cell_type": "markdown",
   "id": "satellite-competition",
   "metadata": {},
   "source": [
    "This notebook is based on the methods presented in the document [1], and contains programs for the computation of discrete-time sequential dynamical models of the form:\n",
    "$$\n",
    "\\mathbf{x}(k+1)= \\mathbf{f}_{\\mathbf{u}}(\\boldsymbol{\\lambda}_{\\rho}\\odot(\\boldsymbol{\\rho}\\odot(\\mathbf{1}_n-\\boldsymbol{\\delta}\\odot\\mathbf{x}(k))-E_{\\boldsymbol{\\alpha},t} \\mathbf{x}(k))), k\\geq 0\n",
    "$$\n",
    "for some given data matrices $\\boldsymbol{\\lambda}_{\\rho},\\boldsymbol{\\rho},\\boldsymbol{\\delta},\n",
    "E_{\\boldsymbol{\\alpha},t}$ corresponding to the state of a financial network $\\mathcal{F}_t:=(\\mathcal{V}_t,\\mathcal{E}_t)$ at a given time $t$ of interest."
   ]
  },
  {
   "cell_type": "markdown",
   "id": "indoor-burke",
   "metadata": {},
   "source": [
    "\n",
    "# Initial configuration"
   ]
  },
  {
   "cell_type": "code",
   "execution_count": 16,
   "id": "dynamic-salad",
   "metadata": {},
   "outputs": [],
   "source": [
    "from pandas import read_csv\n",
    "from numpy import where,array,zeros,sort,linspace"
   ]
  },
  {
   "cell_type": "markdown",
   "id": "4cb6812d",
   "metadata": {},
   "source": [
    "# Input data"
   ]
  },
  {
   "cell_type": "code",
   "execution_count": 2,
   "id": "a7d0e413",
   "metadata": {},
   "outputs": [
    {
     "data": {
      "text/plain": [
       "array(['I_1', 'I_2', 'I_3', 'I_4', 'I_5', 'I_6', 'I_7', 'I_8', 'I_9',\n",
       "       'I_10', 'I_11', 'I_12', 'I_13', 'I_14', 'I_15', 'I_16', 'I_17',\n",
       "       'I_18', 'I_19', 'I_20', 'I_21', 'I_22', 'I_23', 'I_24', 'I_25',\n",
       "       'I_26', 'I_27', 'I_28', 'I_29', 'I_30', 'I_31', 'I_32', 'I_33',\n",
       "       'I_34', 'I_35', 'I_36', 'I_37', 'I_38', 'I_39', 'I_40', 'I_41'],\n",
       "      dtype='<U32')"
      ]
     },
     "execution_count": 2,
     "metadata": {},
     "output_type": "execute_result"
    }
   ],
   "source": [
    "Resources = read_csv('../Data/Resources.csv',header=None).values\n",
    "BalancesDue = read_csv('../Data/BalancesDue.csv',header=None).values\n",
    "Thresholds = read_csv('../Data/Thresholds.csv',header=None).values\n",
    "n = int(41/41*len(Resources))\n",
    "Resources = Resources[:n,:]\n",
    "BalancesDue = BalancesDue[:n,:n]\n",
    "Thresholds = Thresholds[:n,:]\n",
    "N = n\n",
    "Institutions = zeros(N)\n",
    "Institutions = Institutions.astype('str')\n",
    "for k in range(N):\n",
    "    Institutions[k] = 'I_'+str(k+1)\n",
    "Institutions"
   ]
  },
  {
   "cell_type": "markdown",
   "id": "antique-dispute",
   "metadata": {},
   "source": [
    "## Definition of sequential dynamical contagion model"
   ]
  },
  {
   "cell_type": "code",
   "execution_count": 17,
   "id": "ae9a62d1",
   "metadata": {},
   "outputs": [],
   "source": [
    "def NetworkDynamicsModel(recursos,saldos_adeudados,umbral,mode,n0 = 0,severidad = 1,path_computation = True,next_state = -1):\n",
    "    from numpy import zeros, where, ones, hstack, linspace, sort\n",
    "    from networkx import DiGraph, draw_networkx, node_connected_component,circular_layout,spectral_layout\n",
    "    from matplotlib.pyplot import show, subplot\n",
    "    from time import time\n",
    "    descuento = (1-.099*recursos[:,1:2]/recursos[:,0:1])\n",
    "    E = severidad*saldos_adeudados\n",
    "    D = 1/recursos[:,1:2]\n",
    "    def f(x):\n",
    "        return x<umbral\n",
    "    def T(x):\n",
    "        return f(D*(recursos[:,0:1]*(1-descuento*x)-E@x)).astype('int')\n",
    "        \n",
    "    n = len(recursos)\n",
    "    TA = []\n",
    "    NI = []\n",
    "    \n",
    "    base = linspace(0,n-1,n)\n",
    "    base = 2**base\n",
    "    \n",
    "    \n",
    "    print('Computing states set.')\n",
    "    s0 = time()\n",
    "    z0 = zeros([n,1])\n",
    "    z0[:,0] = int2bin(n0,n)\n",
    "    z1 = z0.copy()\n",
    "    TA0 = int(base.dot(z1)[0])\n",
    "    z1 = T(z1)\n",
    "    TA1 = int(base.dot(z1)[0])\n",
    "    TA.append(int(TA0))\n",
    "    TA.append(TA1)\n",
    "    NI.append(int(sum(z0)[0]))\n",
    "    NI.append(int(sum(z1)[0]))\n",
    "    while abs(TA0-TA1)>0:\n",
    "        TA0 = TA1\n",
    "        z1 = T(z1)\n",
    "        TA1 = int(base.dot(z1)[0])\n",
    "        TA.append(TA1)\n",
    "        NI.append(int(sum(z1)[0]))\n",
    "    TA = sort(list(set(TA).intersection(TA)))\n",
    "    m = len(TA)\n",
    "    if m == 1:\n",
    "        #St = TA\n",
    "        St = NI\n",
    "    elif m > 1:\n",
    "        #St = TA\n",
    "        St = NI\n",
    "        NI = hstack((NI[1:],NI[-1]))\n",
    "        TA = hstack((TA[1:],TA[-1]))\n",
    "            \n",
    "       \n",
    "    print('Elapsed time: ',time()-s0)\n",
    "    \n",
    "    \n",
    "    print('Computing relational graph.')\n",
    "    s0 = time()\n",
    "    nodes = []\n",
    "    edges = []\n",
    "    s = []\n",
    "    t = []\n",
    "    for j in range(n):\n",
    "        f0 = where(saldos_adeudados[j,:]>0)[0]+1\n",
    "        nodes.append(j+1)\n",
    "        t = hstack((t,f0))\n",
    "        s = hstack((s,(j+1)*ones(len(f0))))\n",
    "    \n",
    "    s = s.astype('int')\n",
    "    t = t.astype('int')\n",
    "    for k in range(len(s)):\n",
    "        edges.append((s[k],t[k]))\n",
    "        \n",
    "    G = DiGraph()\n",
    "    G.add_nodes_from(nodes)\n",
    "    G.add_edges_from(edges)\n",
    "    print('Elapsed time: ',time()-s0)\n",
    "    \n",
    "    if path_computation:\n",
    "        print('Computing contagion path.')\n",
    "        s0 = time()\n",
    "        nodes = St\n",
    "        edges = []\n",
    "        for j in range(m):\n",
    "            #edges.append((St[j],TA[j]))\n",
    "            edges.append((St[j],NI[j]))\n",
    "        TAgraph = DiGraph()\n",
    "        TAgraph.add_nodes_from(nodes)\n",
    "        TAgraph.add_edges_from(edges)\n",
    "        print('Elapsed time: ',time()-s0)\n",
    "        if next_state > len(TA):\n",
    "            next_state = -1\n",
    "        #if len(TAgraph.nodes)<=1e3:\n",
    "        final_state = TA[next_state]\n",
    "        pos = circular_layout(TAgraph)\n",
    "        if len(TA)<2:\n",
    "            color_map = 'red'\n",
    "        else:\n",
    "            color_map = ['cyan']\n",
    "            for k in range(len(TA)-2):\n",
    "                color_map.append('darkgreen')\n",
    "            color_map.append('red')\n",
    "        subplot(121)\n",
    "        draw_networkx(TAgraph,pos = pos,node_color = color_map)\n",
    "        #show()\n",
    "        #else:\n",
    "        #    print('Computing connected component of node of interest.')\n",
    "        #    s0 = time()\n",
    "        #    Cn0 = node_connected_component(TAgraph.to_undirected(),n0)\n",
    "        #    final_state = max(Cn0)\n",
    "        #    print('Elapsed time: ',time()-s0)\n",
    "    \n",
    "    \n",
    "    \n",
    "        print('Computing initial contagion graph.')\n",
    "        s0 = time()\n",
    "        pos = circular_layout(G)\n",
    "        color_map = state_color_map(G,n0)\n",
    "        subplot(222)\n",
    "        draw_networkx(G,pos = pos,node_color = color_map)\n",
    "        print('Elapsed time: ',time()-s0)\n",
    "        print('Computing final contagion graph.')\n",
    "        s0 = time()\n",
    "        color_map = state_color_map(G,final_state)\n",
    "        subplot(224)\n",
    "        draw_networkx(G,pos = pos,node_color = color_map)\n",
    "        print('Elapsed time: ',time()-s0)\n",
    "        show()\n",
    "    else:\n",
    "        TAgraph = G\n",
    "    \n",
    "    return TA,G,TAgraph,final_state,E\n",
    "\n",
    "def int2bin(x,l):\n",
    "    from numpy import binary_repr,zeros\n",
    "    x = binary_repr(x,l)\n",
    "    n = zeros((l))\n",
    "    for k in range(l):\n",
    "        n[k] = int(x[l-k-1])\n",
    "    return n\n",
    "\n",
    "def state_color_map(InterBaNet,state):\n",
    "    n = len(InterBaNet.nodes)\n",
    "    state = int2bin(state,n)\n",
    "    \n",
    "    color_map = []\n",
    "    \n",
    "    for x in InterBaNet.nodes:\n",
    "        if state[x-1] > 0:\n",
    "            color_map.append('red')\n",
    "        else:\n",
    "            color_map.append('limegreen')\n",
    "    return color_map"
   ]
  },
  {
   "cell_type": "markdown",
   "id": "5cd31fb8",
   "metadata": {},
   "source": [
    "## Silent (faster) sequential dynamic contagion model"
   ]
  },
  {
   "cell_type": "code",
   "execution_count": 4,
   "id": "61ddd29b",
   "metadata": {},
   "outputs": [],
   "source": [
    "def SilentNetworkDynamicsModel(recursos,saldos_adeudados,umbral,mode,n0 = 0,severidad = 1):\n",
    "    from numpy import zeros, where, ones, hstack, linspace, sort\n",
    "    from networkx import DiGraph, draw_networkx, node_connected_component\n",
    "    from matplotlib.pyplot import show, subplot\n",
    "    from time import time\n",
    "    descuento = (1-.099*recursos[:,1:2]/recursos[:,0:1])\n",
    "    E = severidad*saldos_adeudados\n",
    "    D = 1/recursos[:,1:2]\n",
    "    def f(x):\n",
    "        return x<umbral\n",
    "    def T(x):\n",
    "        return f(D*(recursos[:,0:1]*(1-descuento*x)-E@x)).astype('int')\n",
    "        \n",
    "    n = len(recursos)\n",
    "    TA = []\n",
    "    NI = []\n",
    "    \n",
    "    base = linspace(0,n-1,n)\n",
    "    base = 2**base\n",
    "    \n",
    "    \n",
    "    s0 = time()\n",
    "    z0 = zeros([n,1])\n",
    "    z0[:,0] = int2bin(n0,n)\n",
    "    z1 = z0.copy()\n",
    "    TA0 = int(base.dot(z1)[0])\n",
    "    z1 = T(z1)\n",
    "    TA1 = int(base.dot(z1)[0])\n",
    "    TA.append(int(TA0))\n",
    "    TA.append(TA1)\n",
    "    NI.append(int(sum(z0)[0]))\n",
    "    NI.append(int(sum(z1)[0]))\n",
    "    while abs(TA0-TA1)>0:\n",
    "        TA0 = TA1\n",
    "        z1 = T(z1)\n",
    "        NI.append(sum(z1)[0])\n",
    "        TA1 = int(base.dot(z1))\n",
    "        TA.append(TA1)\n",
    "    TA = sort(list(set(TA).intersection(TA)))\n",
    "    m = len(TA)\n",
    "    if m == 1:\n",
    "        #St = TA\n",
    "        St = NI\n",
    "    elif m > 1:\n",
    "        #St = TA\n",
    "        St = NI\n",
    "        TA = hstack((TA[1:],TA[-1]))\n",
    "            \n",
    "       \n",
    "    s0 = time()\n",
    "    nodes = []\n",
    "    edges = []\n",
    "    s = []\n",
    "    t = []\n",
    "    for j in range(n):\n",
    "        f0 = where(saldos_adeudados[j,:]>0)[0]\n",
    "        nodes.append(j)\n",
    "        t = hstack((t,f0))\n",
    "        s = hstack((s,j*ones(len(f0))))\n",
    "    \n",
    "    s = s.astype('int')\n",
    "    t = t.astype('int')\n",
    "    for k in range(len(s)):\n",
    "        edges.append((s[k],t[k]))\n",
    "        \n",
    "    G = DiGraph()\n",
    "    G.add_nodes_from(nodes)\n",
    "    G.add_edges_from(edges)\n",
    "    \n",
    "    return TA,G,NI"
   ]
  },
  {
   "cell_type": "markdown",
   "id": "61eab1af",
   "metadata": {},
   "source": [
    "# Contagion Simulation"
   ]
  },
  {
   "cell_type": "markdown",
   "id": "6e066cb3",
   "metadata": {},
   "source": [
    "## Initial state setting"
   ]
  },
  {
   "cell_type": "code",
   "execution_count": 5,
   "id": "54ca23ba",
   "metadata": {},
   "outputs": [
    {
     "name": "stdout",
     "output_type": "stream",
     "text": [
      "States corresponding to:\n",
      "['I_1']\n",
      "1\n",
      "[1. 0. 0. 0. 0. 0. 0. 0. 0. 0. 0. 0. 0. 0. 0. 0. 0. 0. 0. 0. 0. 0. 0. 0.\n",
      " 0. 0. 0. 0. 0. 0. 0. 0. 0. 0. 0. 0. 0. 0. 0. 0. 0.]\n"
     ]
    }
   ],
   "source": [
    "List = Institutions[[0]]\n",
    "state = 0\n",
    "for x in List:\n",
    "    state = state + 2**where(Institutions==x)[0][0]\n",
    "print('States corresponding to:')\n",
    "print(List)\n",
    "print(state)\n",
    "print(int2bin(state,N))"
   ]
  },
  {
   "cell_type": "markdown",
   "id": "911f6d74",
   "metadata": {},
   "source": [
    "## Contagion path computation"
   ]
  },
  {
   "cell_type": "code",
   "execution_count": 6,
   "id": "8a6db0e4",
   "metadata": {},
   "outputs": [
    {
     "name": "stdout",
     "output_type": "stream",
     "text": [
      "Computing contagion path for: \n",
      "['I_1']\n",
      "Computing states set.\n",
      "Elapsed time:  0.0020058155059814453\n",
      "Computing relational graph.\n",
      "Elapsed time:  0.005556344985961914\n",
      "Computing contagion path.\n",
      "Elapsed time:  0.0\n",
      "Computing initial contagion graph.\n",
      "Elapsed time:  1.3801770210266113\n",
      "Computing final contagion graph.\n",
      "Elapsed time:  1.2741882801055908\n"
     ]
    },
    {
     "data": {
      "image/png": "[encoded data removed]",
      "text/plain": [
       "<Figure size 640x480 with 3 Axes>"
      ]
     },
     "metadata": {},
     "output_type": "display_data"
    }
   ],
   "source": [
    "print('Computing contagion path for: ')\n",
    "print(List)\n",
    "TA,InterBaNet,TAgraph,final_state,E = NetworkDynamicsModel(Resources,BalancesDue,Thresholds,1,state,severidad = 1,next_state=-1)"
   ]
  },
  {
   "cell_type": "markdown",
   "id": "ceramic-shell",
   "metadata": {},
   "source": [
    "## Contagion Indicators Computation"
   ]
  },
  {
   "cell_type": "markdown",
   "id": "d1139d9a",
   "metadata": {},
   "source": [
    "### Contagion indicator $ind_\\infty(G,s,t)$"
   ]
  },
  {
   "cell_type": "markdown",
   "id": "ffcd420b",
   "metadata": {},
   "source": [
    "The indicator $ind_\\infty(G,s,t)$ is defined by the expression:\n",
    "$$ind_\\infty(G,s,t):=\\frac{\\mathbf{1}_n^\\top\\left(\\mathbf{x}(N)-\\mathbf{x}(0)\\right)}{n-\\mathbf{1}_n^\\top \\mathbf{x}(0)}$$\n",
    "where $G$ denotes a list of institutions in the financial network under consideration, $s$ denotes the severity level, $t$ denotes the time period, and where $N$ is determined by the expression:\n",
    "$$N:=\\min \\left\\{ k\\geq 0 \\left| \\mathbf{N}(\\mathbf{x}(k+1))=\\mathbf{N}(\\mathbf{x}(k))\\right.\\right\\}$$"
   ]
  },
  {
   "cell_type": "code",
   "execution_count": 7,
   "id": "8fc93527",
   "metadata": {},
   "outputs": [
    {
     "name": "stdout",
     "output_type": "stream",
     "text": [
      "Network contagion percentage corresponding to ind_inf:  62.5 %\n"
     ]
    },
    {
     "data": {
      "text/plain": [
       "0.5757575757575758"
      ]
     },
     "execution_count": 7,
     "metadata": {},
     "output_type": "execute_result"
    }
   ],
   "source": [
    "ind_inf = sum(int2bin(TA[-1],N)-int2bin(state,N))/(N-sum(int2bin(state,N)))\n",
    "print('Network contagion percentage corresponding to ind_inf: ',100*ind_inf,'%')\n",
    "(27-8)/(41-8)"
   ]
  },
  {
   "cell_type": "markdown",
   "id": "7a876535",
   "metadata": {},
   "source": [
    "### Contagion indicator $ind_{NSI}(I,t)$"
   ]
  },
  {
   "cell_type": "markdown",
   "id": "9a74b20e",
   "metadata": {},
   "source": [
    "The indicator $ind_{NSI}(I,t)$ is defined by the expression:\n",
    "$$ind_{NSI}(I,t):=\\frac{1}{L}\\sum_{k=1}^L \\delta_{M_{k,\\infty}}\\left(ind_\\infty\\left(I,s_k,t\\right)\\right)$$\n",
    "where $I$ denotes the institution in the financial network under consideration, $L$ is the number of severity levels, $s_1,\\ldots,s_L$ denote the severity levels, $M_{1,\\infty},\\ldots,M_{L,\\infty}$ represent the maximum values attained by $ind_\\infty$ for each severity level, $t$ denotes the time period, and where $\\delta$ denotes the Kronecker delta determined by the expression:\n",
    "$$  \\delta_{a}(x):=\\left\\{\n",
    "\\begin{array}{ll}\n",
    "     1, &  x=a\\\\\n",
    "     0, & x\\neq a\n",
    "\\end{array}\n",
    "\\right.$$"
   ]
  },
  {
   "cell_type": "markdown",
   "id": "8727713e",
   "metadata": {},
   "source": [
    "## Computation of sets of indicators"
   ]
  },
  {
   "cell_type": "markdown",
   "id": "ad7a7475",
   "metadata": {},
   "source": [
    "Computation of sets of indicators for the following list of institutions:"
   ]
  },
  {
   "cell_type": "code",
   "execution_count": 8,
   "id": "1cbb8ca3",
   "metadata": {},
   "outputs": [],
   "source": [
    "#Financial_Institutions = ['BAC','Bco Ficohsa','Bco Atlántida','Bancocci','Banpaís']\n",
    "Financial_Institutions = Institutions[:15]"
   ]
  },
  {
   "cell_type": "markdown",
   "id": "b78a8451",
   "metadata": {},
   "source": [
    "### Sets of $ind_\\infty(G,s,t)$ and $ind_{NSI}(I,t)$ indicators"
   ]
  },
  {
   "cell_type": "code",
   "execution_count": 9,
   "id": "74c26619",
   "metadata": {},
   "outputs": [],
   "source": [
    "from numpy import linspace\n",
    "severity = linspace(0,1,5)\n",
    "severity = severity[1:]"
   ]
  },
  {
   "cell_type": "code",
   "execution_count": 10,
   "id": "43f544c5",
   "metadata": {
    "scrolled": true
   },
   "outputs": [
    {
     "name": "stdout",
     "output_type": "stream",
     "text": [
      "\n",
      "\n",
      "Network contagion percentages for the set of ind_inf indicators: \n",
      "\n",
      "      Severity: 25%  Severity: 50%  Severity: 75%  Severity: 100%\n",
      "I_1             2.5           47.5           57.5            62.5\n",
      "I_2             0.0            0.0           57.5            62.5\n",
      "I_3             0.0            0.0            0.0             0.0\n",
      "I_4             0.0            2.5           57.5            62.5\n",
      "I_5             0.0            0.0            0.0             0.0\n",
      "I_6             0.0            0.0            0.0             0.0\n",
      "I_7             0.0           47.5           57.5            62.5\n",
      "I_8             0.0            0.0            0.0            62.5\n",
      "I_9             0.0            0.0            0.0             0.0\n",
      "I_10            0.0            0.0            0.0             0.0\n",
      "I_11            0.0           47.5           57.5            62.5\n",
      "I_12            0.0            0.0            0.0             0.0\n",
      "I_13            0.0            0.0            0.0             2.5\n",
      "I_14            0.0            0.0            0.0             0.0\n",
      "I_15            0.0            0.0            0.0             0.0\n",
      "\n",
      "\n",
      "Network systemic importance percentages for the set of ind_NSI indicators: \n",
      "\n",
      "      ind_NIS: \n",
      "I_1       100.0\n",
      "I_2        50.0\n",
      "I_3         0.0\n",
      "I_4        50.0\n",
      "I_5         0.0\n",
      "I_6         0.0\n",
      "I_7        75.0\n",
      "I_8        25.0\n",
      "I_9         0.0\n",
      "I_10        0.0\n",
      "I_11       75.0\n",
      "I_12        0.0\n",
      "I_13        0.0\n",
      "I_14        0.0\n",
      "I_15        0.0\n"
     ]
    }
   ],
   "source": [
    "from numpy import linspace,zeros\n",
    "severity = linspace(0,1,5)\n",
    "severity = severity[1:]\n",
    "ls = len(severity)\n",
    "Ind_1 = zeros((len(Financial_Institutions),ls))\n",
    "Ind_inf = Ind_1.copy()\n",
    "Number_of_Rounds = Ind_1.copy()\n",
    "for k in range(len(severity)):\n",
    "    ind_1 = []\n",
    "    ind_inf = []\n",
    "    RN = []\n",
    "    for x in Financial_Institutions:\n",
    "        state = 2**where(Institutions==x)[0][0]\n",
    "        TA,InterBaNet,NI = SilentNetworkDynamicsModel(Resources,BalancesDue,Thresholds,1,state,severidad = severity[k])\n",
    "        ind_1.append(sum(int2bin(TA[0],N)-int2bin(state,N))/(N-sum(int2bin(state,N))))\n",
    "        ind_inf.append(sum(int2bin(TA[-1],N)-int2bin(state,N))/(N-sum(int2bin(state,N))))\n",
    "        RN.append(len(TA)-1)\n",
    "    Ind_1[:,k] = ind_1\n",
    "    Ind_inf[:,k] = ind_inf\n",
    "    Number_of_Rounds[:,k] = RN \n",
    "Number_of_Rounds = Number_of_Rounds.astype('int')\n",
    "from pandas import DataFrame\n",
    "Ind_inf_df = DataFrame({'Severity: 25%':list(100*Ind_inf[:15,0]),'Severity: 50%':list(100*Ind_inf[:15,1]),'Severity: 75%':list(100*Ind_inf[:15,2]),'Severity: 100%':list(100*Ind_inf[:15,3])},index=Institutions[:15])\n",
    "T0 = Ind_inf_df.values\n",
    "nt0 = T0.shape[1]\n",
    "mt0 = zeros(nt0)\n",
    "for t in range(nt0):\n",
    "    mt0[t] = max(T0[:,t])\n",
    "    \n",
    "rt0 = T0.shape[0]\n",
    "Ind_NSI = zeros(rt0)\n",
    "for j in range(rt0):\n",
    "    Ind_NSI[j]=sum(T0[j,:]==mt0)/nt0\n",
    "\n",
    "Ind_NSI_df = DataFrame({'ind_NIS: ':list(100*Ind_NSI)},index=Financial_Institutions)\n",
    "\n",
    "print('\\n\\nNetwork contagion percentages for the set of ind_inf indicators: \\n')\n",
    "print(Ind_inf_df)\n",
    "print('\\n\\nNetwork systemic importance percentages for the set of ind_NSI indicators: \\n')\n",
    "print(Ind_NSI_df)"
   ]
  },
  {
   "cell_type": "code",
   "execution_count": 11,
   "id": "b3b79cd8",
   "metadata": {},
   "outputs": [
    {
     "name": "stdout",
     "output_type": "stream",
     "text": [
      "\\begin{tabular}{lrrrr}\n",
      "\\toprule\n",
      "{} &  Severity: 25\\% &  Severity: 50\\% &  Severity: 75\\% &  Severity: 100\\% \\\\\n",
      "\\midrule\n",
      "I\\_1  &            2.5 &           47.5 &           57.5 &            62.5 \\\\\n",
      "I\\_2  &            0.0 &            0.0 &           57.5 &            62.5 \\\\\n",
      "I\\_3  &            0.0 &            0.0 &            0.0 &             0.0 \\\\\n",
      "I\\_4  &            0.0 &            2.5 &           57.5 &            62.5 \\\\\n",
      "I\\_5  &            0.0 &            0.0 &            0.0 &             0.0 \\\\\n",
      "I\\_6  &            0.0 &            0.0 &            0.0 &             0.0 \\\\\n",
      "I\\_7  &            0.0 &           47.5 &           57.5 &            62.5 \\\\\n",
      "I\\_8  &            0.0 &            0.0 &            0.0 &            62.5 \\\\\n",
      "I\\_9  &            0.0 &            0.0 &            0.0 &             0.0 \\\\\n",
      "I\\_10 &            0.0 &            0.0 &            0.0 &             0.0 \\\\\n",
      "I\\_11 &            0.0 &           47.5 &           57.5 &            62.5 \\\\\n",
      "I\\_12 &            0.0 &            0.0 &            0.0 &             0.0 \\\\\n",
      "I\\_13 &            0.0 &            0.0 &            0.0 &             2.5 \\\\\n",
      "I\\_14 &            0.0 &            0.0 &            0.0 &             0.0 \\\\\n",
      "I\\_15 &            0.0 &            0.0 &            0.0 &             0.0 \\\\\n",
      "\\bottomrule\n",
      "\\end{tabular}\n",
      "\n"
     ]
    },
    {
     "name": "stderr",
     "output_type": "stream",
     "text": [
      "C:\\Users\\fredy.vides\\AppData\\Local\\Temp\\ipykernel_13136\\549640096.py:1: FutureWarning: In future versions `DataFrame.to_latex` is expected to utilise the base implementation of `Styler.to_latex` for formatting and rendering. The arguments signature may therefore change. It is recommended instead to use `DataFrame.style.to_latex` which also contains additional functionality.\n",
      "  print(Ind_inf_df.to_latex(index=True,\n"
     ]
    }
   ],
   "source": [
    "print(Ind_inf_df.to_latex(index=True,\n",
    "                  formatters={\"name\": str.upper},\n",
    "                  float_format=\"{:.1f}\".format,\n",
    "))  "
   ]
  },
  {
   "cell_type": "markdown",
   "id": "efcc8cab",
   "metadata": {},
   "source": [
    "## Financial Institutions Classification"
   ]
  },
  {
   "cell_type": "code",
   "execution_count": 12,
   "id": "80a6195a",
   "metadata": {},
   "outputs": [],
   "source": [
    "severity_level = .75\n",
    "severity_level = where(severity==severity_level)[0][0]"
   ]
  },
  {
   "cell_type": "markdown",
   "id": "e64f6173",
   "metadata": {},
   "source": [
    "### Institutions classified by $ind_1(G,s,t)$"
   ]
  },
  {
   "cell_type": "markdown",
   "id": "4e2704de",
   "metadata": {},
   "source": [
    "### Institutions classified by $ind_\\infty(G,s,t)$"
   ]
  },
  {
   "cell_type": "code",
   "execution_count": 13,
   "id": "f3f07988",
   "metadata": {},
   "outputs": [
    {
     "name": "stdout",
     "output_type": "stream",
     "text": [
      "[['I_1', 'I_2', 'I_4', 'I_7', 'I_11'], ['I_3', 'I_5', 'I_6', 'I_8', 'I_9', 'I_10', 'I_12', 'I_13', 'I_14', 'I_15']]\n",
      "                                         Institutions: \n",
      "G_1:                         [I_1, I_2, I_4, I_7, I_11]\n",
      "G_2:  [I_3, I_5, I_6, I_8, I_9, I_10, I_12, I_13, I_...\n"
     ]
    }
   ],
   "source": [
    "eps = 1e-1\n",
    "r_ind_inf = []\n",
    "for x in Ind_inf[:,severity_level]:\n",
    "    r_ind_inf.append(round(100*x,1))\n",
    "scales = sort(list(set(r_ind_inf)))\n",
    "class_inf = []\n",
    "for j in range(len(scales)):\n",
    "    class0=[]\n",
    "    for k in range(len(Financial_Institutions)):\n",
    "        if abs(100*Ind_inf[k,severity_level]-scales[j])<=eps:\n",
    "            class0.append(Financial_Institutions[k])\n",
    "    class_inf.append(class0)\n",
    "class_inf = class_inf[::-1]\n",
    "print(class_inf)\n",
    "l0 = len(class_inf)\n",
    "Groups = []\n",
    "for k in range(l0):\n",
    "    Groups.append('G_'+str(k+1)+':')\n",
    "class_inf_df = DataFrame({'Institutions: ':class_inf},index=Groups)\n",
    "print(class_inf_df)"
   ]
  },
  {
   "cell_type": "markdown",
   "id": "2417c68c",
   "metadata": {},
   "source": [
    "### Institutions classified by $ind_{NIS}(I,t)$"
   ]
  },
  {
   "cell_type": "code",
   "execution_count": 14,
   "id": "5f4c4ad9",
   "metadata": {},
   "outputs": [
    {
     "name": "stdout",
     "output_type": "stream",
     "text": [
      "[['I_1'], ['I_7', 'I_11'], ['I_2', 'I_4'], ['I_8'], ['I_3', 'I_5', 'I_6', 'I_9', 'I_10', 'I_12', 'I_13', 'I_14', 'I_15']]\n",
      "                                         Institutions: \n",
      "G_1:                                              [I_1]\n",
      "G_2:                                        [I_7, I_11]\n",
      "G_3:                                         [I_2, I_4]\n",
      "G_4:                                              [I_8]\n",
      "G_5:  [I_3, I_5, I_6, I_9, I_10, I_12, I_13, I_14, I...\n"
     ]
    }
   ],
   "source": [
    "eps = 1e-1\n",
    "r_ind_NIS = []\n",
    "for x in Ind_NSI:\n",
    "    r_ind_NIS.append(round(100*x,1))\n",
    "scales = sort(list(set(r_ind_NIS)))\n",
    "class_NSI = []\n",
    "for j in range(len(scales)):\n",
    "    class0=[]\n",
    "    for k in range(len(Financial_Institutions)):\n",
    "        if abs(100*Ind_NSI[k]-scales[j])<=eps:\n",
    "            class0.append(Financial_Institutions[k])\n",
    "    class_NSI.append(class0)\n",
    "class_NSI = class_NSI[::-1]\n",
    "print(class_NSI)\n",
    "l0 = len(class_NSI)\n",
    "Groups = []\n",
    "for k in range(l0):\n",
    "    Groups.append('G_'+str(k+1)+':')\n",
    "class_NSI_df = DataFrame({'Institutions: ':class_NSI},index=Groups)\n",
    "print(class_NSI_df)"
   ]
  },
  {
   "cell_type": "markdown",
   "id": "seventh-mandate",
   "metadata": {},
   "source": [
    "## References\n",
    "\n",
    "1. Flores, E., Vides, F. (2024). Computing contagion models for the supervision of financial networks in Honduras. Technical report. In preparation."
   ]
  }
 ],
 "metadata": {
  "kernelspec": {
   "display_name": "Python 3 (ipykernel)",
   "language": "python",
   "name": "python3"
  },
  "language_info": {
   "codemirror_mode": {
    "name": "ipython",
    "version": 3
   },
   "file_extension": ".py",
   "mimetype": "text/x-python",
   "name": "python",
   "nbconvert_exporter": "python",
   "pygments_lexer": "ipython3",
   "version": "3.9.13"
  }
 },
 "nbformat": 4,
 "nbformat_minor": 5
}
